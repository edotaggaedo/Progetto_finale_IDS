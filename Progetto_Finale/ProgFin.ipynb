{
 "cells": [
  {
   "attachments": {},
   "cell_type": "markdown",
   "metadata": {},
   "source": [
    "Anno 2022/2023\n",
    "\n",
    "Progetto finale Introduzione alla Data Science\n",
    "\n",
    "Matricola S5018707\n",
    "\n",
    "In questo progetto lavorerò su due dataset effettuandone l'integrazione, la rappresentazione, e la predizione di certe statistiche attraverso lo studio\n",
    "\n",
    "Tipi di dataset:\n",
    "\n",
    "amazon_titles_1.csv, amazon_titles_2.csv\n",
    "amazon_credits.csv\n",
    "\n",
    "disney_titles_1.csv, disney_titles_2.csv\n",
    "disney_credits.csv"
   ]
  },
  {
   "attachments": {},
   "cell_type": "markdown",
   "metadata": {},
   "source": [
    "Inizialmente importiamo pandas"
   ]
  },
  {
   "cell_type": "code",
   "execution_count": 1,
   "metadata": {},
   "outputs": [],
   "source": [
    "import pandas as pd"
   ]
  },
  {
   "attachments": {},
   "cell_type": "markdown",
   "metadata": {},
   "source": [
    "\n",
    "Parto con l'esecuzione della read_csv per creare le tabelle per ogni dataframe"
   ]
  },
  {
   "cell_type": "code",
   "execution_count": 2,
   "metadata": {},
   "outputs": [],
   "source": [
    "#Amazon\n",
    "\n",
    "amazon_titles_1 = pd.read_csv(\"new_data/data/amazon/amazon_titles_1.csv\")\n",
    "amazon_titles_2 = pd.read_csv(\"new_data/data/amazon/amazon_titles_2.csv\")\n",
    "\n",
    "#Disney\n",
    "\n",
    "disney_titles_1 = pd.read_csv(\"new_data/data/disney/disney_titles_1.csv\")\n",
    "disney_titles_2 = pd.read_csv(\"new_data/data/disney/disney_titles_2.csv\")\n",
    "\n",
    "# Voglio creare un file csv con tutti i titoli di Amazon e Disney\n",
    "\n"
   ]
  },
  {
   "attachments": {},
   "cell_type": "markdown",
   "metadata": {},
   "source": [
    "###############################################################################################################\n",
    "\n",
    "Rappresentazione dei dati\n",
    "\n",
    "Uso questo spazio per visualizzare le informazioni di ogni dataframe in modo da aiutarmi nello studio degli stessi"
   ]
  },
  {
   "cell_type": "code",
   "execution_count": 3,
   "metadata": {},
   "outputs": [],
   "source": [
    "# Conteggi\n",
    "\n",
    "# Valori nulli\n",
    "\n",
    "#print(amazon_titles_1.isnull().sum())\n",
    "#print(amazon_titles_2.isnull().sum())\n",
    "#print(disney_titles_1.isnull().sum())\n",
    "#print(disney_titles_2.isnull().sum())\n",
    "\n",
    "#print(amazon_titles_combinata.isnull().sum())\n",
    "#print(disney_titles_combinata.isnull().sum())\n",
    "\n",
    "# Valori non nulli\n",
    "\n",
    "#print(amazon_titles_1.notnull().sum())\n",
    "#print(amazon_titles_2.notnull().sum())\n",
    "#print(disney_titles_1.notnull().sum())\n",
    "#print(disney_titles_2.notnull().sum())\n",
    "\n",
    "#print(amazon_titles_combinata.notnull().sum())\n",
    "#print(disney_titles_combinata.notnull().sum())\n",
    "\n",
    "# Valori duplicati per colonna\n",
    "\n",
    "#print(amazon_titles_1.duplicated().sum())\n",
    "#print(amazon_titles_2.duplicated().sum())\n",
    "#print(disney_titles_1.duplicated().sum())\n",
    "#print(disney_titles_2.duplicated().sum())\n",
    "\n",
    "#print(amazon_titles_combinata.duplicated().sum())\n",
    "#print(disney_titles_combinata.duplicated().sum()) \n",
    "\n",
    "# Occorrenze di valori per colonna\n",
    "\n",
    "#print(amazon_titles_1['type'].value_counts())\n",
    "#print(amazon_titles_2['type'].value_counts())\n",
    "#print(disney_titles_1['type'].value_counts())\n",
    "#print(disney_titles_2['type'].value_counts())\n",
    "\n",
    "#print(amazon_titles_combinata['date_added'].value_counts())\n",
    "#print(disney_titles_combinata['type'].value_counts())\n"
   ]
  },
  {
   "cell_type": "code",
   "execution_count": 4,
   "metadata": {},
   "outputs": [
    {
     "name": "stdout",
     "output_type": "stream",
     "text": [
      "  show_id   type                 title        director  \\\n",
      "0      s1  Movie   The Grand Seduction    Don McKellar   \n",
      "1      s2  Movie  Take Care Good Night    Girish Joshi   \n",
      "2      s3  Movie  Secrets of Deception     Josh Webber   \n",
      "3      s4  Movie    Pink: Staying True  Sonia Anderson   \n",
      "4      s5  Movie         Monster Maker    Giles Foster   \n",
      "\n",
      "                                                cast         country  \\\n",
      "0     Brendan Gleeson, Taylor Kitsch, Gordon Pinsent          Canada   \n",
      "1   Mahesh Manjrekar, Abhay Mahajan, Sachin Khedekar           India   \n",
      "2  Tom Sizemore, Lorenzo Lamas, Robert LaSardo, R...   United States   \n",
      "3  Interviews with: Pink, Adele, Beyoncé, Britney...   United States   \n",
      "4  Harry Dean Stanton, Kieran O'Brien, George Cos...  United Kingdom   \n",
      "\n",
      "       date_added  release_year rating duration                listed_in  \\\n",
      "0  March 30, 2021          2014    NaN  113 min            Comedy, Drama   \n",
      "1  March 30, 2021          2018    13+  110 min     Drama, International   \n",
      "2  March 30, 2021          2017    NaN   74 min  Action, Drama, Suspense   \n",
      "3  March 30, 2021          2014    NaN   69 min              Documentary   \n",
      "4  March 30, 2021          1989    NaN   45 min           Drama, Fantasy   \n",
      "\n",
      "                                         description  \n",
      "0  A small fishing village must procure a local d...  \n",
      "1  A Metro Family decides to fight a Cyber Crimin...  \n",
      "2  After a man discovers his wife is cheating on ...  \n",
      "3  Pink breaks the mold once again, bringing her ...  \n",
      "4  Teenage Matt Banting wants to work with a famo...  \n"
     ]
    }
   ],
   "source": [
    "# Dettagli sui dataframe\n",
    "\n",
    "# Prime 5 righe\n",
    "\n",
    "#print(amazon_titles_1.head())\n",
    "print(amazon_titles_2.head())\n",
    "#print(disney_titles_1.head())\n",
    "#print(disney_titles_2.head())\n",
    "\n",
    "#print(amazon_titles_combinata.head())\n",
    "#print(disney_titles_combinata.head())\n",
    "\n",
    "# Informazioni generali\n",
    "\n",
    "#print(amazon_titles_1.info())\n",
    "#print(amazon_titles_2.info())\n",
    "#print(disney_titles_1.info())\n",
    "#print(disney_titles_2.info())\n",
    "\n",
    "#print(amazon_titles_combinata.info())\n",
    "#print(disney_titles_combinata.info())\n",
    "\n",
    "# Descrizione\n",
    "\n",
    "#print(amazon_titles_1.describe())\n",
    "#print(amazon_titles_2.describe())\n",
    "#print(disney_titles_1.describe())\n",
    "#print(disney_titles_2.describe())\n",
    "\n",
    "#print(amazon_titles_combinata.describe())\n",
    "#print(disney_titles_combinata.describe())\n",
    "\n",
    "# Dimensioni\n",
    "\n",
    "#print(amazon_titles_1.shape)\n",
    "#print(amazon_titles_2.shape)\n",
    "#print(disney_titles_1.shape)\n",
    "#print(disney_titles_2.shape)\n",
    "\n",
    "#print(amazon_titles_combinata.shape)\n",
    "#print(disney_titles_combinata.shape)\n",
    "\n",
    "# Lista colonne\n",
    "\n",
    "#print(amazon_titles_1.columns)\n",
    "#print(amazon_titles_2.columns)\n",
    "#print(disney_titles_1.columns)\n",
    "#print(disney_titles_2.columns)\n",
    "\n",
    "#print(amazon_titles_combinata.columns)\n",
    "#print(disney_titles_combinata.columns)"
   ]
  },
  {
   "attachments": {},
   "cell_type": "markdown",
   "metadata": {},
   "source": [
    "###############################################################################################################"
   ]
  },
  {
   "attachments": {},
   "cell_type": "markdown",
   "metadata": {},
   "source": [
    "Integrazione dei dataframe per ogni piattaforma"
   ]
  },
  {
   "cell_type": "code",
   "execution_count": 5,
   "metadata": {},
   "outputs": [],
   "source": [
    "# Combino i due dataset usando la concat di pandas\n",
    "\n",
    "# Per Amazon\n",
    "\n",
    "amazon_titles_combinata = pd.concat([amazon_titles_1, amazon_titles_2])\n",
    "\n",
    "# Per Disney\n",
    "\n",
    "disney_titles_combinata = pd.concat([disney_titles_1, disney_titles_2])\n",
    "\n"
   ]
  },
  {
   "attachments": {},
   "cell_type": "markdown",
   "metadata": {},
   "source": [
    "Usando lo spazio apposito per la rappresentazione delle tabelle si nota che ci sono alcune colonne che rappresentano la stessa cosa con nomi diversi:\n",
    "\n",
    "(country e production_countries, listed_in e genres, id e show_id, runtime e duration)\n",
    "\n",
    "Quindi procedo con l'unione delle colonne che rappresentano la stessa cosa e la rimozione di quelle inutili"
   ]
  },
  {
   "cell_type": "code",
   "execution_count": 6,
   "metadata": {},
   "outputs": [],
   "source": [
    "# Modifico le colonne con nomi diversi ma con lo stesso significato usando la funzione fillna di pandas\n",
    "\n",
    "# (country e production_countries, listed_in e genres, id e show_id, runtime e duration)\n",
    "\n",
    "# Amazon\n",
    "\n",
    "amazon_titles_combinata['country'].fillna(amazon_titles_combinata['production_countries'], inplace=True)\n",
    "\n",
    "amazon_titles_combinata['genres'].fillna(amazon_titles_combinata['listed_in'], inplace=True)\n",
    "\n",
    "amazon_titles_combinata['id'].fillna(amazon_titles_combinata['show_id'], inplace=True)\n",
    "\n",
    "amazon_titles_combinata['duration'].fillna(amazon_titles_combinata['runtime'], inplace=True)\n",
    "\n",
    "# Disney\n",
    "\n",
    "disney_titles_combinata['country'].fillna(disney_titles_combinata['production_countries'], inplace=True)\n",
    "\n",
    "disney_titles_combinata['genres'].fillna(disney_titles_combinata['listed_in'], inplace=True)\n",
    "\n",
    "disney_titles_combinata['id'].fillna(disney_titles_combinata['show_id'], inplace=True)\n",
    "\n",
    "disney_titles_combinata['duration'].fillna(disney_titles_combinata['runtime'], inplace=True)\n",
    "\n",
    "\n",
    "# Poi elimino le colonne che non mi servono più\n",
    "\n",
    "amazon_titles_combinata.drop(['production_countries', 'listed_in', 'show_id', 'runtime'], axis=1, inplace=True)\n",
    "disney_titles_combinata.drop(['production_countries', 'listed_in', 'show_id', 'runtime'], axis=1, inplace=True)\n",
    "\n"
   ]
  },
  {
   "attachments": {},
   "cell_type": "markdown",
   "metadata": {},
   "source": [
    "Dopo l'unione eseguo uno step di pulizia dei dati per eliminare le righe inutili usando lo spazio dedicato alla rappresentazione delle tabelle\n",
    "\n",
    "Da tale analisi spuntano, per mio giudizio:\n",
    "\n",
    "Comunemente ai due dataset\n",
    "\n",
    "Rimuovo:\n",
    "['seasons','date_added'] perchè ha troppi valori nulli per renderla utile\n",
    "['description','imdb_id','cast','director'] dato che non rappresentano materia utile per uno studio\n",
    "\n",
    "Modifico:\n",
    "['type'] perchè guardando le occorrenze di valori della colonna si nota che ci sono quattro tipi('TV Show', 'Movie', 'MOVIE', 'SHOW'), ma per quello che indica la colonna è meglio usarne due('MOVIE', 'SHOW')"
   ]
  },
  {
   "cell_type": "code",
   "execution_count": 7,
   "metadata": {},
   "outputs": [],
   "source": [
    "#Effettuo il drop delle colonne inutili\n",
    "\n",
    "\n",
    "amazon_titles_combinata.drop(['description', 'imdb_id', 'seasons', 'date_added','cast','director'], axis=1, inplace=True)\n",
    "\n",
    "disney_titles_combinata.drop(['description', 'imdb_id', 'seasons', 'date_added','cast','director'], axis=1, inplace=True)\n",
    "\n",
    "\n",
    "# Modifica colonna type per definire i due valori assumibili da essa (MOVIE, SHOW)\n",
    "\n",
    "amazon_titles_combinata['type'] = amazon_titles_combinata['type'].replace('Movie', 'MOVIE')\n",
    "amazon_titles_combinata['type'] = amazon_titles_combinata['type'].replace('TV Show', 'SHOW')\n",
    "\n",
    "disney_titles_combinata['type'] = disney_titles_combinata['type'].replace('Movie', 'MOVIE')\n",
    "disney_titles_combinata['type'] = disney_titles_combinata['type'].replace('TV Show', 'SHOW')\n",
    "\n",
    "\n",
    "amazon_titles_combinata.drop_duplicates(subset='id', inplace=True, keep='first')\n",
    "\n",
    "disney_titles_combinata.drop_duplicates(subset='id', inplace=True, keep='first')"
   ]
  },
  {
   "attachments": {},
   "cell_type": "markdown",
   "metadata": {},
   "source": [
    "\n",
    "----------------------------------------------------------------------------------------------------------------\n",
    "TRASFORMAZIONE\n",
    "----------------------------------------------------------------------------------------------------------------\n",
    "\n",
    "Purtroppo non capisco se siano realmente utili gli step di trasformazione assegnati dal progetto, penso che non avrebbe senso sostituire la colonna genres, dal momento che è una colonna che indica il genere del film, con una che ne indica solo il numero, sarebbe meglio aggiungerla a parte\n",
    "\n",
    "Riguardo al creare colonne contenenti l'anno ed il mese di aggiunta, non ne trovo il senso visto che la colonna contiene una quantità irrisoria di valori, ma una parte del progetto lo richiede quindi procedo"
   ]
  },
  {
   "cell_type": "code",
   "execution_count": 13,
   "metadata": {},
   "outputs": [
    {
     "name": "stdout",
     "output_type": "stream",
     "text": [
      "Drama                                                           986\n",
      "['drama']                                                       980\n",
      "['comedy']                                                      807\n",
      "['documentation']                                               597\n",
      "Comedy                                                          536\n",
      "                                                               ... \n",
      "['horror', 'scifi', 'action', 'thriller']                         1\n",
      "['comedy', 'horror', 'european']                                  1\n",
      "['drama', 'european', 'crime', 'history', 'romance']              1\n",
      "['action', 'horror', 'scifi', 'thriller', 'war', 'european']      1\n",
      "Anime, Comedy, Drama                                              1\n",
      "Name: genres_count, Length: 2831, dtype: int64\n",
      "0       ['drama', 'family', 'fantasy', 'comedy', 'roma...\n",
      "1                        ['comedy', 'romance', 'western']\n",
      "2                                       ['comedy', 'war']\n",
      "3                          ['drama', 'romance', 'comedy']\n",
      "4                                    ['comedy', 'family']\n",
      "                              ...                        \n",
      "9663                                               Comedy\n",
      "9664                                             TV Shows\n",
      "9665                                               Action\n",
      "9666                                        Drama, Sports\n",
      "9667                              Action, Drama, Suspense\n",
      "Name: genres_count, Length: 20492, dtype: object\n"
     ]
    }
   ],
   "source": [
    "# Aggiungo colonna che prende i valori della colonna genres, li mette in una lista e poi li conta inserendo il risultato in una nuova colonna chiamata genres_count\n",
    "\n",
    "amazon_titles_combinata['genres_count'] = amazon_titles_combinata['genres'].tolist().count.apply(lambda x: x.split)\n",
    "\n",
    "\n",
    "print(amazon_titles_combinata['genres_count'].value_counts())\n",
    "print(amazon_titles_combinata['genres_count'])"
   ]
  }
 ],
 "metadata": {
  "kernelspec": {
   "display_name": "Python 3",
   "language": "python",
   "name": "python3"
  },
  "language_info": {
   "codemirror_mode": {
    "name": "ipython",
    "version": 3
   },
   "file_extension": ".py",
   "mimetype": "text/x-python",
   "name": "python",
   "nbconvert_exporter": "python",
   "pygments_lexer": "ipython3",
   "version": "3.10.4"
  },
  "orig_nbformat": 4,
  "vscode": {
   "interpreter": {
    "hash": "aee8b7b246df8f9039afb4144a1f6fd8d2ca17a180786b69acc140d282b71a49"
   }
  }
 },
 "nbformat": 4,
 "nbformat_minor": 2
}
