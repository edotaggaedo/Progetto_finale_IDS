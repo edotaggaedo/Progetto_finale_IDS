{
 "cells": [
  {
   "attachments": {},
   "cell_type": "markdown",
   "metadata": {},
   "source": [
    "Anno 2022/2023\n",
    "\n",
    "Progetto finale Introduzione alla Data Science\n",
    "\n",
    "Matricola S5018707\n",
    "\n",
    "In questo progetto lavorerò su due dataset effettuandone l'integrazione, la rappresentazione, e la predizione di certe statistiche attraverso lo studio\n",
    "\n",
    "Tipi di dataset:\n",
    "\n",
    "amazon_titles_1.csv, amazon_titles_2.csv\n",
    "amazon_credits.csv\n",
    "\n",
    "disney_titles_1.csv, disney_titles_2.csv\n",
    "disney_credits.csv"
   ]
  },
  {
   "attachments": {},
   "cell_type": "markdown",
   "metadata": {},
   "source": [
    "Inizialmente importiamo pandas"
   ]
  },
  {
   "cell_type": "code",
   "execution_count": 1,
   "metadata": {},
   "outputs": [],
   "source": [
    "import pandas as pd"
   ]
  },
  {
   "attachments": {},
   "cell_type": "markdown",
   "metadata": {},
   "source": [
    "\n",
    "Parto con l'esecuzione della read_csv per creare le tabelle per ogni dataframe"
   ]
  },
  {
   "cell_type": "code",
   "execution_count": 2,
   "metadata": {},
   "outputs": [],
   "source": [
    "#Amazon\n",
    "\n",
    "amazon_titles_1 = pd.read_csv(\"new_data/data/amazon/amazon_titles_1.csv\")\n",
    "amazon_titles_2 = pd.read_csv(\"new_data/data/amazon/amazon_titles_2.csv\")\n",
    "\n",
    "#Disney\n",
    "\n",
    "disney_titles_1 = pd.read_csv(\"new_data/data/disney/disney_titles_1.csv\")\n",
    "disney_titles_2 = pd.read_csv(\"new_data/data/disney/disney_titles_2.csv\")\n",
    "\n",
    "# Voglio creare un file csv con tutti i titoli di Amazon e Disney\n",
    "\n"
   ]
  },
  {
   "cell_type": "markdown",
   "metadata": {},
   "source": [
    "--------------------------------------------------------------------------------------------------------------------------------------\n",
    "INTEGRAZIONE\n",
    "--------------------------------------------------------------------------------------------------------------------------------------"
   ]
  },
  {
   "attachments": {},
   "cell_type": "markdown",
   "metadata": {},
   "source": [
    "###############################################################################################################\n",
    "\n",
    "Rappresentazione dei dati\n",
    "\n",
    "Uso questo spazio per visualizzare le informazioni di ogni dataframe in modo da aiutarmi nello studio degli stessi"
   ]
  },
  {
   "cell_type": "code",
   "execution_count": 3,
   "metadata": {},
   "outputs": [],
   "source": [
    "# Conteggi\n",
    "\n",
    "# Valori nulli\n",
    "\n",
    "#print(amazon_titles_1.isnull().sum())\n",
    "#print(amazon_titles_2.isnull().sum())\n",
    "#print(disney_titles_1.isnull().sum())\n",
    "#print(disney_titles_2.isnull().sum())\n",
    "\n",
    "#print(amazon_titles_combinata.isnull().sum())\n",
    "#print(disney_titles_combinata.isnull().sum())\n",
    "\n",
    "# Valori non nulli\n",
    "\n",
    "#print(amazon_titles_1.notnull().sum())\n",
    "#print(amazon_titles_2.notnull().sum())\n",
    "#print(disney_titles_1.notnull().sum())\n",
    "#print(disney_titles_2.notnull().sum())\n",
    "\n",
    "#print(amazon_titles_combinata.notnull().sum())\n",
    "#print(disney_titles_combinata.notnull().sum())\n",
    "\n",
    "# Valori duplicati per colonna\n",
    "\n",
    "#print(amazon_titles_1.duplicated().sum())\n",
    "#print(amazon_titles_2.duplicated().sum())\n",
    "#print(disney_titles_1.duplicated().sum())\n",
    "#print(disney_titles_2.duplicated().sum())\n",
    "\n",
    "#print(amazon_titles_combinata.duplicated().sum())\n",
    "#print(disney_titles_combinata.duplicated().sum()) \n",
    "\n",
    "# Occorrenze di valori per colonna\n",
    "\n",
    "#print(amazon_titles_1['type'].value_counts())\n",
    "#print(amazon_titles_2['type'].value_counts())\n",
    "#print(disney_titles_1['type'].value_counts())\n",
    "#print(disney_titles_2['type'].value_counts())\n",
    "\n",
    "#print(amazon_titles_combinata['type'].value_counts())\n",
    "#print(disney_titles_combinata['type'].value_counts())\n"
   ]
  },
  {
   "cell_type": "code",
   "execution_count": 10,
   "metadata": {},
   "outputs": [
    {
     "name": "stdout",
     "output_type": "stream",
     "text": [
      "March 30, 2021        14\n",
      "August 27, 2021        6\n",
      "June 11, 2021          4\n",
      "October 2, 2021        4\n",
      "September 26, 2021     4\n",
      "                      ..\n",
      "July 27, 2021          1\n",
      "April 26, 2021         1\n",
      "August 14, 2021        1\n",
      "August 15, 2021        1\n",
      "July 20, 2021          1\n",
      "Name: date_added, Length: 84, dtype: int64\n"
     ]
    }
   ],
   "source": [
    "# Dettagli sui dataframe\n",
    "\n",
    "# Singole colonne\n",
    "\n",
    "#print(amazon_titles_1['type'])\n",
    "#print(amazon_titles_2['type'])\n",
    "#print(disney_titles_1['type'])\n",
    "#print(disney_titles_2['type'])\n",
    "\n",
    "#print(amazon_titles_combinata['date_added'])\n",
    "#print(disney_titles_combinata['type'])\n",
    "\n",
    "# Prime 5 righe\n",
    "\n",
    "#print(amazon_titles_1.head())\n",
    "#print(amazon_titles_2.head())\n",
    "#print(disney_titles_1.head())\n",
    "#print(disney_titles_2.head())\n",
    "\n",
    "#print(amazon_titles_combinata.head())\n",
    "#print(disney_titles_combinata.head())\n",
    "\n",
    "# Informazioni generali\n",
    "\n",
    "#print(amazon_titles_1.info())\n",
    "#print(amazon_titles_2.info())\n",
    "#print(disney_titles_1.info())\n",
    "#print(disney_titles_2.info())\n",
    "\n",
    "#print(amazon_titles_combinata.info())\n",
    "#print(disney_titles_combinata.info())\n",
    "\n",
    "# Descrizione\n",
    "\n",
    "#print(amazon_titles_1.describe())\n",
    "#print(amazon_titles_2.describe())\n",
    "#print(disney_titles_1.describe())\n",
    "#print(disney_titles_2.describe())\n",
    "\n",
    "#print(amazon_titles_combinata.describe())\n",
    "#print(disney_titles_combinata.describe())\n",
    "\n",
    "# Dimensioni\n",
    "\n",
    "#print(amazon_titles_1.shape)\n",
    "#print(amazon_titles_2.shape)\n",
    "#print(disney_titles_1.shape)\n",
    "#print(disney_titles_2.shape)\n",
    "\n",
    "#print(amazon_titles_combinata.shape)\n",
    "#print(disney_titles_combinata.shape)\n",
    "\n",
    "# Lista colonne\n",
    "\n",
    "#print(amazon_titles_1.columns)\n",
    "#print(amazon_titles_2.columns)\n",
    "#print(disney_titles_1.columns)\n",
    "#print(disney_titles_2.columns)\n",
    "\n",
    "#print(amazon_titles_combinata.columns)\n",
    "#print(disney_titles_combinata.columns)"
   ]
  },
  {
   "attachments": {},
   "cell_type": "markdown",
   "metadata": {},
   "source": [
    "###############################################################################################################"
   ]
  },
  {
   "attachments": {},
   "cell_type": "markdown",
   "metadata": {},
   "source": [
    "Integrazione dei dataframe per ogni piattaforma"
   ]
  },
  {
   "cell_type": "code",
   "execution_count": 5,
   "metadata": {},
   "outputs": [],
   "source": [
    "# Combino i due dataset usando la concat di pandas\n",
    "\n",
    "# Per Amazon\n",
    "\n",
    "amazon_titles_combinata = pd.concat([amazon_titles_1, amazon_titles_2])\n",
    "\n",
    "# Per Disney\n",
    "\n",
    "disney_titles_combinata = pd.concat([disney_titles_1, disney_titles_2])\n",
    "\n"
   ]
  },
  {
   "attachments": {},
   "cell_type": "markdown",
   "metadata": {},
   "source": [
    "Usando lo spazio apposito per la rappresentazione delle tabelle si nota che ci sono alcune colonne che rappresentano la stessa cosa con nomi diversi:\n",
    "\n",
    "(country e production_countries, listed_in e genres, id e show_id, runtime e duration)\n",
    "\n",
    "Quindi procedo con l'unione delle colonne che rappresentano la stessa cosa e la rimozione di quelle inutili"
   ]
  },
  {
   "cell_type": "code",
   "execution_count": 6,
   "metadata": {},
   "outputs": [],
   "source": [
    "# Modifico le colonne con nomi diversi ma con lo stesso significato usando la funzione fillna di pandas\n",
    "\n",
    "# (country e production_countries, listed_in e genres, id e show_id, runtime e duration)\n",
    "\n",
    "# Amazon\n",
    "\n",
    "amazon_titles_combinata['country'].fillna(amazon_titles_combinata['production_countries'], inplace=True)\n",
    "\n",
    "amazon_titles_combinata['genres'].fillna(amazon_titles_combinata['listed_in'], inplace=True)\n",
    "\n",
    "amazon_titles_combinata['id'].fillna(amazon_titles_combinata['show_id'], inplace=True)\n",
    "\n",
    "amazon_titles_combinata['duration'].fillna(amazon_titles_combinata['runtime'], inplace=True)\n",
    "\n",
    "# Disney\n",
    "\n",
    "disney_titles_combinata['country'].fillna(disney_titles_combinata['production_countries'], inplace=True)\n",
    "\n",
    "disney_titles_combinata['genres'].fillna(disney_titles_combinata['listed_in'], inplace=True)\n",
    "\n",
    "disney_titles_combinata['id'].fillna(disney_titles_combinata['show_id'], inplace=True)\n",
    "\n",
    "disney_titles_combinata['duration'].fillna(disney_titles_combinata['runtime'], inplace=True)\n",
    "\n",
    "\n",
    "# Poi elimino le colonne che non mi servono più\n",
    "\n",
    "amazon_titles_combinata.drop(['production_countries', 'listed_in', 'show_id', 'runtime'], axis=1, inplace=True)\n",
    "disney_titles_combinata.drop(['production_countries', 'listed_in', 'show_id', 'runtime'], axis=1, inplace=True)\n",
    "\n"
   ]
  },
  {
   "attachments": {},
   "cell_type": "markdown",
   "metadata": {},
   "source": [
    "Dopo l'unione eseguo uno step di pulizia dei dati per eliminare le righe inutili usando lo spazio dedicato alla rappresentazione delle tabelle\n",
    "\n",
    "Da tale analisi spuntano, per mio giudizio:\n",
    "\n",
    "Comunemente ai due dataset\n",
    "\n",
    "Rimuovo:\n",
    "\n",
    "['seasons','date_added'] perchè hanno troppi valori nulli per renderle utili\n",
    "\n",
    "['description','imdb_id','cast','director'] dato che non rappresentano materia utile per uno studio\n",
    "\n",
    "Modifico:\n",
    "\n",
    "['type'] perchè guardando le occorrenze di valori della colonna si nota che ci sono quattro tipi('TV Show', 'Movie', 'MOVIE', 'SHOW'), ma per quello che indica la colonna è meglio usarne due('MOVIE', 'SHOW')"
   ]
  },
  {
   "cell_type": "code",
   "execution_count": 7,
   "metadata": {},
   "outputs": [],
   "source": [
    "#Effettuo il drop delle colonne inutili\n",
    "\n",
    "\n",
    "amazon_titles_combinata.drop(['description', 'imdb_id', 'seasons','cast','director'], axis=1, inplace=True)\n",
    "\n",
    "disney_titles_combinata.drop(['description', 'imdb_id', 'seasons','cast','director'], axis=1, inplace=True)\n",
    "\n",
    "\n",
    "# Modifica colonna type per definire i due valori assumibili da essa (MOVIE, SHOW)\n",
    "\n",
    "amazon_titles_combinata['type'] = amazon_titles_combinata['type'].replace('Movie', 'MOVIE')\n",
    "amazon_titles_combinata['type'] = amazon_titles_combinata['type'].replace('TV Show', 'SHOW')\n",
    "\n",
    "disney_titles_combinata['type'] = disney_titles_combinata['type'].replace('Movie', 'MOVIE')\n",
    "disney_titles_combinata['type'] = disney_titles_combinata['type'].replace('TV Show', 'SHOW')\n",
    "\n",
    "\n",
    "amazon_titles_combinata.drop_duplicates(subset='id', inplace=True, keep='first')\n",
    "\n",
    "disney_titles_combinata.drop_duplicates(subset='id', inplace=True, keep='first')"
   ]
  },
  {
   "attachments": {},
   "cell_type": "markdown",
   "metadata": {},
   "source": [
    "\n",
    "----------------------------------------------------------------------------------------------------------------\n",
    "TRASFORMAZIONE\n",
    "----------------------------------------------------------------------------------------------------------------\n",
    "\n",
    "Purtroppo non capisco se siano realmente utili gli step di trasformazione assegnati dal progetto, penso che non avrebbe senso sostituire la colonna genres, dal momento che è una colonna che indica il genere del film, con una che ne indica solo il numero, sarebbe meglio aggiungerla a parte\n",
    "\n",
    "Riguardo al creare colonne contenenti l'anno ed il mese di aggiunta, non ne trovo il motivo visto che la colonna contiene una quantità irrisoria di valori, ma una parte del progetto lo richiede quindi procedo"
   ]
  },
  {
   "cell_type": "code",
   "execution_count": 8,
   "metadata": {},
   "outputs": [
    {
     "ename": "AttributeError",
     "evalue": "'float' object has no attribute 'split'",
     "output_type": "error",
     "traceback": [
      "\u001b[1;31m---------------------------------------------------------------------------\u001b[0m",
      "\u001b[1;31mAttributeError\u001b[0m                            Traceback (most recent call last)",
      "Cell \u001b[1;32mIn[8], line 23\u001b[0m\n\u001b[0;32m     16\u001b[0m disney_titles_combinata[\u001b[39m'\u001b[39m\u001b[39mgenres_count\u001b[39m\u001b[39m'\u001b[39m] \u001b[39m=\u001b[39m disney_titles_combinata[\u001b[39m'\u001b[39m\u001b[39mgenres\u001b[39m\u001b[39m'\u001b[39m]\u001b[39m.\u001b[39mapply(\u001b[39mlambda\u001b[39;00m x: \u001b[39mlen\u001b[39m(x))\n\u001b[0;32m     19\u001b[0m \u001b[39m# Qua avrei usato la print per controllare la corretta esecuzione del codice, ma basta far riferimento allo spazio dedicato alla visualizzazione dei dati sopra\u001b[39;00m\n\u001b[0;32m     20\u001b[0m \n\u001b[0;32m     21\u001b[0m \u001b[39m# Adesso procedo quindi con la creazione di una nuova colonnna che prende il valore della colonna date_added e ne estrae l'anno ed il mese inserendoli in due nuove colonne\u001b[39;00m\n\u001b[1;32m---> 23\u001b[0m amazon_titles_combinata[\u001b[39m'\u001b[39m\u001b[39myear_added\u001b[39m\u001b[39m'\u001b[39m] \u001b[39m=\u001b[39m amazon_titles_combinata[\u001b[39m'\u001b[39;49m\u001b[39mdate_added\u001b[39;49m\u001b[39m'\u001b[39;49m]\u001b[39m.\u001b[39;49mapply(\u001b[39mlambda\u001b[39;49;00m x: x\u001b[39m.\u001b[39;49msplit(\u001b[39m'\u001b[39;49m\u001b[39m, \u001b[39;49m\u001b[39m'\u001b[39;49m)[\u001b[39m-\u001b[39;49m\u001b[39m1\u001b[39;49m])\n\u001b[0;32m     24\u001b[0m amazon_titles_combinata[\u001b[39m'\u001b[39m\u001b[39mmonth_added\u001b[39m\u001b[39m'\u001b[39m] \u001b[39m=\u001b[39m amazon_titles_combinata[\u001b[39m'\u001b[39m\u001b[39mdate_added\u001b[39m\u001b[39m'\u001b[39m]\u001b[39m.\u001b[39mapply(\u001b[39mlambda\u001b[39;00m x: x\u001b[39m.\u001b[39mlstrip()\u001b[39m.\u001b[39msplit(\u001b[39m'\u001b[39m\u001b[39m \u001b[39m\u001b[39m'\u001b[39m)[\u001b[39m0\u001b[39m])\n",
      "File \u001b[1;32mc:\\Users\\edoar\\anaconda3\\lib\\site-packages\\pandas\\core\\series.py:4771\u001b[0m, in \u001b[0;36mSeries.apply\u001b[1;34m(self, func, convert_dtype, args, **kwargs)\u001b[0m\n\u001b[0;32m   4661\u001b[0m \u001b[39mdef\u001b[39;00m \u001b[39mapply\u001b[39m(\n\u001b[0;32m   4662\u001b[0m     \u001b[39mself\u001b[39m,\n\u001b[0;32m   4663\u001b[0m     func: AggFuncType,\n\u001b[1;32m   (...)\u001b[0m\n\u001b[0;32m   4666\u001b[0m     \u001b[39m*\u001b[39m\u001b[39m*\u001b[39mkwargs,\n\u001b[0;32m   4667\u001b[0m ) \u001b[39m-\u001b[39m\u001b[39m>\u001b[39m DataFrame \u001b[39m|\u001b[39m Series:\n\u001b[0;32m   4668\u001b[0m     \u001b[39m\"\"\"\u001b[39;00m\n\u001b[0;32m   4669\u001b[0m \u001b[39m    Invoke function on values of Series.\u001b[39;00m\n\u001b[0;32m   4670\u001b[0m \n\u001b[1;32m   (...)\u001b[0m\n\u001b[0;32m   4769\u001b[0m \u001b[39m    dtype: float64\u001b[39;00m\n\u001b[0;32m   4770\u001b[0m \u001b[39m    \"\"\"\u001b[39;00m\n\u001b[1;32m-> 4771\u001b[0m     \u001b[39mreturn\u001b[39;00m SeriesApply(\u001b[39mself\u001b[39;49m, func, convert_dtype, args, kwargs)\u001b[39m.\u001b[39;49mapply()\n",
      "File \u001b[1;32mc:\\Users\\edoar\\anaconda3\\lib\\site-packages\\pandas\\core\\apply.py:1123\u001b[0m, in \u001b[0;36mSeriesApply.apply\u001b[1;34m(self)\u001b[0m\n\u001b[0;32m   1120\u001b[0m     \u001b[39mreturn\u001b[39;00m \u001b[39mself\u001b[39m\u001b[39m.\u001b[39mapply_str()\n\u001b[0;32m   1122\u001b[0m \u001b[39m# self.f is Callable\u001b[39;00m\n\u001b[1;32m-> 1123\u001b[0m \u001b[39mreturn\u001b[39;00m \u001b[39mself\u001b[39;49m\u001b[39m.\u001b[39;49mapply_standard()\n",
      "File \u001b[1;32mc:\\Users\\edoar\\anaconda3\\lib\\site-packages\\pandas\\core\\apply.py:1174\u001b[0m, in \u001b[0;36mSeriesApply.apply_standard\u001b[1;34m(self)\u001b[0m\n\u001b[0;32m   1172\u001b[0m     \u001b[39melse\u001b[39;00m:\n\u001b[0;32m   1173\u001b[0m         values \u001b[39m=\u001b[39m obj\u001b[39m.\u001b[39mastype(\u001b[39mobject\u001b[39m)\u001b[39m.\u001b[39m_values\n\u001b[1;32m-> 1174\u001b[0m         mapped \u001b[39m=\u001b[39m lib\u001b[39m.\u001b[39;49mmap_infer(\n\u001b[0;32m   1175\u001b[0m             values,\n\u001b[0;32m   1176\u001b[0m             f,\n\u001b[0;32m   1177\u001b[0m             convert\u001b[39m=\u001b[39;49m\u001b[39mself\u001b[39;49m\u001b[39m.\u001b[39;49mconvert_dtype,\n\u001b[0;32m   1178\u001b[0m         )\n\u001b[0;32m   1180\u001b[0m \u001b[39mif\u001b[39;00m \u001b[39mlen\u001b[39m(mapped) \u001b[39mand\u001b[39;00m \u001b[39misinstance\u001b[39m(mapped[\u001b[39m0\u001b[39m], ABCSeries):\n\u001b[0;32m   1181\u001b[0m     \u001b[39m# GH#43986 Need to do list(mapped) in order to get treated as nested\u001b[39;00m\n\u001b[0;32m   1182\u001b[0m     \u001b[39m#  See also GH#25959 regarding EA support\u001b[39;00m\n\u001b[0;32m   1183\u001b[0m     \u001b[39mreturn\u001b[39;00m obj\u001b[39m.\u001b[39m_constructor_expanddim(\u001b[39mlist\u001b[39m(mapped), index\u001b[39m=\u001b[39mobj\u001b[39m.\u001b[39mindex)\n",
      "File \u001b[1;32mc:\\Users\\edoar\\anaconda3\\lib\\site-packages\\pandas\\_libs\\lib.pyx:2924\u001b[0m, in \u001b[0;36mpandas._libs.lib.map_infer\u001b[1;34m()\u001b[0m\n",
      "Cell \u001b[1;32mIn[8], line 23\u001b[0m, in \u001b[0;36m<lambda>\u001b[1;34m(x)\u001b[0m\n\u001b[0;32m     16\u001b[0m disney_titles_combinata[\u001b[39m'\u001b[39m\u001b[39mgenres_count\u001b[39m\u001b[39m'\u001b[39m] \u001b[39m=\u001b[39m disney_titles_combinata[\u001b[39m'\u001b[39m\u001b[39mgenres\u001b[39m\u001b[39m'\u001b[39m]\u001b[39m.\u001b[39mapply(\u001b[39mlambda\u001b[39;00m x: \u001b[39mlen\u001b[39m(x))\n\u001b[0;32m     19\u001b[0m \u001b[39m# Qua avrei usato la print per controllare la corretta esecuzione del codice, ma basta far riferimento allo spazio dedicato alla visualizzazione dei dati sopra\u001b[39;00m\n\u001b[0;32m     20\u001b[0m \n\u001b[0;32m     21\u001b[0m \u001b[39m# Adesso procedo quindi con la creazione di una nuova colonnna che prende il valore della colonna date_added e ne estrae l'anno ed il mese inserendoli in due nuove colonne\u001b[39;00m\n\u001b[1;32m---> 23\u001b[0m amazon_titles_combinata[\u001b[39m'\u001b[39m\u001b[39myear_added\u001b[39m\u001b[39m'\u001b[39m] \u001b[39m=\u001b[39m amazon_titles_combinata[\u001b[39m'\u001b[39m\u001b[39mdate_added\u001b[39m\u001b[39m'\u001b[39m]\u001b[39m.\u001b[39mapply(\u001b[39mlambda\u001b[39;00m x: x\u001b[39m.\u001b[39;49msplit(\u001b[39m'\u001b[39m\u001b[39m, \u001b[39m\u001b[39m'\u001b[39m)[\u001b[39m-\u001b[39m\u001b[39m1\u001b[39m])\n\u001b[0;32m     24\u001b[0m amazon_titles_combinata[\u001b[39m'\u001b[39m\u001b[39mmonth_added\u001b[39m\u001b[39m'\u001b[39m] \u001b[39m=\u001b[39m amazon_titles_combinata[\u001b[39m'\u001b[39m\u001b[39mdate_added\u001b[39m\u001b[39m'\u001b[39m]\u001b[39m.\u001b[39mapply(\u001b[39mlambda\u001b[39;00m x: x\u001b[39m.\u001b[39mlstrip()\u001b[39m.\u001b[39msplit(\u001b[39m'\u001b[39m\u001b[39m \u001b[39m\u001b[39m'\u001b[39m)[\u001b[39m0\u001b[39m])\n",
      "\u001b[1;31mAttributeError\u001b[0m: 'float' object has no attribute 'split'"
     ]
    }
   ],
   "source": [
    "# Attualmente ci sono dei valori nella colonna genres che sono delle strighe, quindi non posso effettuare il conteggio dei valori in essa contenuti\n",
    "\n",
    "# Quindi devo trasformare le stringhe in liste\n",
    "\n",
    "amazon_titles_combinata['genres'] = amazon_titles_combinata['genres'].apply(lambda x: x.split(', '))\n",
    "\n",
    "\n",
    "# Aggiungo colonna che prende i valori della colonna genres e ne conta gli elementi inserendo il risultato in una nuova colonna chiamata genres_count\n",
    "\n",
    "amazon_titles_combinata['genres_count'] = amazon_titles_combinata['genres'].apply(lambda x: len(x))\n",
    "\n",
    "# Stessa cosa per Disney\n",
    "\n",
    "disney_titles_combinata['genres'] = disney_titles_combinata['genres'].apply(lambda x: x.split(', '))\n",
    "\n",
    "disney_titles_combinata['genres_count'] = disney_titles_combinata['genres'].apply(lambda x: len(x))\n",
    "\n",
    "\n",
    "# Qua avrei usato la print per controllare la corretta esecuzione del codice, ma basta far riferimento allo spazio dedicato alla visualizzazione dei dati sopra\n",
    "\n",
    "# Adesso procedo quindi con la creazione di una nuova colonnna che prende il valore della colonna date_added e ne estrae l'anno ed il mese inserendoli in due nuove colonne\n",
    "\n",
    "amazon_titles_combinata['year_added'] = amazon_titles_combinata['date_added'].apply(lambda x: x.split(', ')[-1])\n",
    "amazon_titles_combinata['month_added'] = amazon_titles_combinata['date_added'].apply(lambda x: x.lstrip().split(' ')[0])\n"
   ]
  }
 ],
 "metadata": {
  "kernelspec": {
   "display_name": "Python 3.10.9 ('base')",
   "language": "python",
   "name": "python3"
  },
  "language_info": {
   "codemirror_mode": {
    "name": "ipython",
    "version": 3
   },
   "file_extension": ".py",
   "mimetype": "text/x-python",
   "name": "python",
   "nbconvert_exporter": "python",
   "pygments_lexer": "ipython3",
   "version": "3.10.9"
  },
  "orig_nbformat": 4,
  "vscode": {
   "interpreter": {
    "hash": "e8d4f54279070d4d74ccb753bffc1f387ad9506fc6315a695e2423d207fdf50e"
   }
  }
 },
 "nbformat": 4,
 "nbformat_minor": 2
}
