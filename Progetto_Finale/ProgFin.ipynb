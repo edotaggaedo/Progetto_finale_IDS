{
 "cells": [
  {
   "attachments": {},
   "cell_type": "markdown",
   "metadata": {},
   "source": [
    "Anno 2022/2023\n",
    "\n",
    "Progetto finale Introduzione alla Data Science\n",
    "\n",
    "Matricola S5018707\n",
    "\n",
    "In questo progetto lavorerò su due dataset effettuandone l'integrazione, la rappresentazione, e la predizione di certe statistiche attraverso lo studio\n",
    "\n",
    "Tipi di dataset:\n",
    "\n",
    "amazon_titles_1.csv, amazon_titles_2.csv\n",
    "amazon_credits.csv\n",
    "\n",
    "disney_titles_1.csv, disney_titles_2.csv\n",
    "disney_credits.csv"
   ]
  },
  {
   "attachments": {},
   "cell_type": "markdown",
   "metadata": {},
   "source": [
    "Inizialmente importiamo pandas"
   ]
  },
  {
   "cell_type": "code",
   "execution_count": 1,
   "metadata": {},
   "outputs": [],
   "source": [
    "import pandas as pd\n",
    "import numpy as np\n",
    "import matplotlib.pyplot as plt"
   ]
  },
  {
   "attachments": {},
   "cell_type": "markdown",
   "metadata": {},
   "source": [
    "\n",
    "Parto con l'esecuzione della read_csv per creare le tabelle per ogni dataframe"
   ]
  },
  {
   "cell_type": "code",
   "execution_count": 2,
   "metadata": {},
   "outputs": [],
   "source": [
    "#Amazon\n",
    "\n",
    "amazon_titles_1 = pd.read_csv(\"new_data/data/amazon/amazon_titles_1.csv\")\n",
    "amazon_titles_2 = pd.read_csv(\"new_data/data/amazon/amazon_titles_2.csv\")\n",
    "\n",
    "#Disney\n",
    "\n",
    "disney_titles_1 = pd.read_csv(\"new_data/data/disney/disney_titles_1.csv\")\n",
    "disney_titles_2 = pd.read_csv(\"new_data/data/disney/disney_titles_2.csv\")\n",
    "\n",
    "# Voglio creare un file csv con tutti i titoli di Amazon e Disney\n",
    "\n"
   ]
  },
  {
   "attachments": {},
   "cell_type": "markdown",
   "metadata": {},
   "source": [
    "--------------------------------------------------------------------------------------------------------------------------------------\n",
    "INTEGRAZIONE\n",
    "--------------------------------------------------------------------------------------------------------------------------------------"
   ]
  },
  {
   "attachments": {},
   "cell_type": "markdown",
   "metadata": {},
   "source": [
    "###############################################################################################################\n",
    "\n",
    "Rappresentazione dei dati\n",
    "\n",
    "Uso questo spazio per visualizzare le informazioni di ogni dataframe in modo da aiutarmi nello studio degli stessi"
   ]
  },
  {
   "cell_type": "code",
   "execution_count": 3,
   "metadata": {},
   "outputs": [],
   "source": [
    "# Conteggi\n",
    "\n",
    "# Valori nulli\n",
    "\n",
    "#print(amazon_titles_1.isnull().sum())\n",
    "#print(amazon_titles_2.isnull().sum())\n",
    "#print(disney_titles_1.isnull().sum())\n",
    "#print(disney_titles_2.isnull().sum())\n",
    "\n",
    "#print(amazon_titles_combinata.isnull().sum())\n",
    "#print(disney_titles_combinata.isnull().sum())\n",
    "\n",
    "# Valori non nulli\n",
    "\n",
    "#print(amazon_titles_1.notnull().sum())\n",
    "#print(amazon_titles_2.notnull().sum())\n",
    "#print(disney_titles_1.notnull().sum())\n",
    "#print(disney_titles_2.notnull().sum())\n",
    "\n",
    "#print(amazon_titles_combinata.notnull().sum())\n",
    "#print(disney_titles_combinata.notnull().sum())\n",
    "\n",
    "# Valori duplicati per colonna\n",
    "\n",
    "#print(amazon_titles_1.duplicated().sum())\n",
    "#print(amazon_titles_2.duplicated().sum())\n",
    "#print(disney_titles_1.duplicated().sum())\n",
    "#print(disney_titles_2.duplicated().sum())\n",
    "\n",
    "#print(amazon_titles_combinata.duplicated().sum())\n",
    "#print(disney_titles_combinata.duplicated().sum()) \n",
    "\n",
    "# Occorrenze di valori per colonna\n",
    "\n",
    "#print(amazon_titles_1['type'].value_counts())\n",
    "#print(amazon_titles_2['type'].value_counts())\n",
    "#print(disney_titles_1['type'].value_counts())\n",
    "#print(disney_titles_2['type'].value_counts())\n",
    "\n",
    "#print(amazon_titles_combinata['type'].value_counts())\n",
    "#print(disney_titles_combinata['type'].value_counts())\n"
   ]
  },
  {
   "cell_type": "code",
   "execution_count": 4,
   "metadata": {},
   "outputs": [],
   "source": [
    "# Dettagli sui dataframe\n",
    "\n",
    "# Singole colonne\n",
    "\n",
    "#print(amazon_titles_1['type'])\n",
    "#print(amazon_titles_2['type'])\n",
    "#print(disney_titles_1['type'])\n",
    "#print(disney_titles_2['type'])\n",
    "\n",
    "#print(amazon_titles_combinata['date_added'])\n",
    "#print(disney_titles_combinata['type'])\n",
    "\n",
    "# Prime 5 righe\n",
    "\n",
    "#print(amazon_titles_1.head())\n",
    "#print(amazon_titles_2.head())\n",
    "#print(disney_titles_1.head())\n",
    "#print(disney_titles_2.head())\n",
    "\n",
    "#print(amazon_titles_combinata.head())\n",
    "#print(disney_titles_combinata.head())\n",
    "\n",
    "# Informazioni generali\n",
    "\n",
    "#print(amazon_titles_1.info())\n",
    "#print(amazon_titles_2.info())\n",
    "#print(disney_titles_1.info())\n",
    "#print(disney_titles_2.info())\n",
    "\n",
    "#print(amazon_titles_combinata.info())\n",
    "#print(disney_titles_combinata.info())\n",
    "\n",
    "# Descrizione\n",
    "\n",
    "#print(amazon_titles_1.describe())\n",
    "#print(amazon_titles_2.describe())\n",
    "#print(disney_titles_1.describe())\n",
    "#print(disney_titles_2.describe())\n",
    "\n",
    "#print(amazon_titles_combinata.describe())\n",
    "#print(disney_titles_combinata.describe())\n",
    "\n",
    "# Dimensioni\n",
    "\n",
    "#print(amazon_titles_1.shape)\n",
    "#print(amazon_titles_2.shape)\n",
    "#print(disney_titles_1.shape)\n",
    "#print(disney_titles_2.shape)\n",
    "\n",
    "#print(amazon_titles_combinata.shape)\n",
    "#print(disney_titles_combinata.shape)\n",
    "\n",
    "# Lista colonne\n",
    "\n",
    "#print(amazon_titles_1.columns)\n",
    "#print(amazon_titles_2.columns)\n",
    "#print(disney_titles_1.columns)\n",
    "#print(disney_titles_2.columns)\n",
    "\n",
    "#print(amazon_titles_combinata.columns)\n",
    "#print(disney_titles_combinata.columns)"
   ]
  },
  {
   "attachments": {},
   "cell_type": "markdown",
   "metadata": {},
   "source": [
    "###############################################################################################################"
   ]
  },
  {
   "attachments": {},
   "cell_type": "markdown",
   "metadata": {},
   "source": [
    "Integrazione dei dataframe per ogni piattaforma"
   ]
  },
  {
   "cell_type": "code",
   "execution_count": 5,
   "metadata": {},
   "outputs": [],
   "source": [
    "# Combino i due dataset usando la concat di pandas\n",
    "\n",
    "# Per Amazon\n",
    "\n",
    "amazon_titles_combinata = pd.concat([amazon_titles_1, amazon_titles_2])\n",
    "\n",
    "# Per Disney\n",
    "\n",
    "disney_titles_combinata = pd.concat([disney_titles_1, disney_titles_2])\n",
    "\n"
   ]
  },
  {
   "attachments": {},
   "cell_type": "markdown",
   "metadata": {},
   "source": [
    "Usando lo spazio apposito per la rappresentazione delle tabelle si nota che ci sono alcune colonne che rappresentano la stessa cosa con nomi diversi:\n",
    "\n",
    "(country e production_countries, listed_in e genres, id e show_id, runtime e duration)\n",
    "\n",
    "Quindi procedo con l'unione delle colonne che rappresentano la stessa cosa e la rimozione di quelle inutili"
   ]
  },
  {
   "cell_type": "code",
   "execution_count": 6,
   "metadata": {},
   "outputs": [],
   "source": [
    "# Modifico le colonne con nomi diversi ma con lo stesso significato usando la funzione fillna di pandas\n",
    "\n",
    "# (country e production_countries, listed_in e genres, id e show_id, runtime e duration)\n",
    "\n",
    "# Amazon\n",
    "\n",
    "amazon_titles_combinata['country'].fillna(amazon_titles_combinata['production_countries'], inplace=True)\n",
    "\n",
    "amazon_titles_combinata['genres'].fillna(amazon_titles_combinata['listed_in'], inplace=True)\n",
    "\n",
    "amazon_titles_combinata['id'].fillna(amazon_titles_combinata['show_id'], inplace=True)\n",
    "\n",
    "amazon_titles_combinata['duration'].fillna(amazon_titles_combinata['runtime'], inplace=True)\n",
    "\n",
    "# Disney\n",
    "\n",
    "disney_titles_combinata['country'].fillna(disney_titles_combinata['production_countries'], inplace=True)\n",
    "\n",
    "disney_titles_combinata['genres'].fillna(disney_titles_combinata['listed_in'], inplace=True)\n",
    "\n",
    "disney_titles_combinata['id'].fillna(disney_titles_combinata['show_id'], inplace=True)\n",
    "\n",
    "disney_titles_combinata['duration'].fillna(disney_titles_combinata['runtime'], inplace=True)\n",
    "\n",
    "\n",
    "# Poi elimino le colonne che non mi servono più\n",
    "\n",
    "amazon_titles_combinata.drop(['production_countries', 'listed_in', 'show_id', 'runtime'], axis=1, inplace=True)\n",
    "disney_titles_combinata.drop(['production_countries', 'listed_in', 'show_id', 'runtime'], axis=1, inplace=True)\n",
    "\n"
   ]
  },
  {
   "attachments": {},
   "cell_type": "markdown",
   "metadata": {},
   "source": [
    "Dopo l'unione eseguo uno step di pulizia dei dati per eliminare le righe inutili usando lo spazio dedicato alla rappresentazione delle tabelle\n",
    "\n",
    "Da tale analisi spuntano, per mio giudizio:\n",
    "\n",
    "Comunemente ai due dataset\n",
    "\n",
    "Rimuovo:\n",
    "\n",
    "['seasons','date_added'] perchè hanno troppi valori nulli per renderle utili\n",
    "\n",
    "['description','imdb_id','cast','director'] dato che non rappresentano materia utile per uno studio\n",
    "\n",
    "Modifico:\n",
    "\n",
    "['type'] perchè guardando le occorrenze di valori della colonna si nota che ci sono quattro tipi('TV Show', 'Movie', 'MOVIE', 'SHOW'), ma per quello che indica la colonna è meglio usarne due('MOVIE', 'SHOW')"
   ]
  },
  {
   "cell_type": "code",
   "execution_count": 7,
   "metadata": {},
   "outputs": [],
   "source": [
    "#Effettuo il drop delle colonne inutili\n",
    "\n",
    "\n",
    "amazon_titles_combinata.drop(['description', 'imdb_id', 'seasons','cast','director'], axis=1, inplace=True)\n",
    "\n",
    "disney_titles_combinata.drop(['description', 'imdb_id', 'seasons','cast','director'], axis=1, inplace=True)\n",
    "\n",
    "\n",
    "# Modifica colonna type per definire i due valori assumibili da essa (MOVIE, SHOW)\n",
    "\n",
    "amazon_titles_combinata['type'] = amazon_titles_combinata['type'].replace('Movie', 'MOVIE')\n",
    "amazon_titles_combinata['type'] = amazon_titles_combinata['type'].replace('TV Show', 'SHOW')\n",
    "\n",
    "disney_titles_combinata['type'] = disney_titles_combinata['type'].replace('Movie', 'MOVIE')\n",
    "disney_titles_combinata['type'] = disney_titles_combinata['type'].replace('TV Show', 'SHOW')\n",
    "\n",
    "\n",
    "amazon_titles_combinata.drop_duplicates(subset='id', inplace=True, keep='first')\n",
    "\n",
    "disney_titles_combinata.drop_duplicates(subset='id', inplace=True, keep='first')"
   ]
  },
  {
   "attachments": {},
   "cell_type": "markdown",
   "metadata": {},
   "source": [
    "\n",
    "----------------------------------------------------------------------------------------------------------------\n",
    "TRASFORMAZIONE\n",
    "----------------------------------------------------------------------------------------------------------------\n",
    "\n",
    "Purtroppo non capisco se siano realmente utili gli step di trasformazione assegnati dal progetto, penso che non avrebbe senso sostituire la colonna genres, dal momento che è una colonna che indica il genere del film, con una che ne indica solo il numero, sarebbe meglio aggiungerla a parte\n",
    "\n",
    "Riguardo al creare colonne contenenti l'anno ed il mese di aggiunta, non ne trovo il motivo visto che la colonna contiene una quantità irrisoria di valori, ma una parte del progetto lo richiede quindi procedo"
   ]
  },
  {
   "cell_type": "code",
   "execution_count": 18,
   "metadata": {},
   "outputs": [],
   "source": [
    "# Attualmente ci sono dei valori nella colonna genres che sono delle strighe, quindi non posso effettuare il conteggio dei valori in essa contenuti\n",
    "\n",
    "# Quindi devo trasformare le stringhe in liste\n",
    "\n",
    "amazon_titles_combinata['genres'] = amazon_titles_combinata['genres'].apply(lambda x: x.split(', '))\n",
    "\n",
    "# Aggiungo colonna che prende i valori della colonna genres e ne conta gli elementi inserendo il risultato in una nuova colonna chiamata genres_count\n",
    "\n",
    "amazon_titles_combinata['genres_count'] = amazon_titles_combinata['genres'].apply(lambda x: len(x))\n",
    "\n",
    "# Stessa cosa per Disney\n",
    "\n",
    "disney_titles_combinata['genres'] = disney_titles_combinata['genres'].apply(lambda x: x.split(', '))\n",
    "\n",
    "disney_titles_combinata['genres_count'] = disney_titles_combinata['genres'].apply(lambda x: len(x))\n",
    "\n",
    "\n",
    "# Qua avrei usato la print per controllare la corretta esecuzione del codice, ma basta far riferimento allo spazio dedicato alla visualizzazione dei dati sopra\n",
    "\n",
    "# Adesso procedo quindi con la creazione di una nuova colonnna che prende il valore della colonna date_added e ne estrae l'anno ed il mese inserendoli in due nuove colonne\n",
    "\n",
    "# Formato date_added: gg mm, yyyy\n",
    "\n",
    "# Amazon\n",
    "\n",
    "amazon_titles_combinata['year_added'] = amazon_titles_combinata['date_added'].astype(str).str.split(', ').str[-1]\n",
    "amazon_titles_combinata['month_added'] = amazon_titles_combinata['date_added'].astype(str).str.split(' ').str[0]\n",
    "\n",
    "# Disney\n",
    "\n",
    "disney_titles_combinata['year_added'] = disney_titles_combinata['date_added'].astype(str).str.split(', ').str[-1]\n",
    "disney_titles_combinata['month_added'] = disney_titles_combinata['date_added'].astype(str).str.split(' ').str[0]\n",
    "\n",
    "#Quindi effettuo il drop della colonna date_added\n",
    "\n",
    "amazon_titles_combinata.drop(['date_added'], axis=1, inplace=True)\n",
    "\n",
    "disney_titles_combinata.drop(['date_added'], axis=1, inplace=True)\n"
   ]
  },
  {
   "attachments": {},
   "cell_type": "markdown",
   "metadata": {},
   "source": [
    "----------------------------------------------------------------------------------------------------------------\n",
    "ESPLORAZIONE\n",
    "----------------------------------------------------------------------------------------------------------------\n",
    "\n",
    "Durante questo step eseguo qualche rappresentazione grafica per capire meglio i dati che ho a disposizione\n",
    "\n",
    "Prima: distribuzione dell'imdb_score per age_certification\n",
    "\n",
    "Seconda: numero di programmi per release_year\n",
    "\n",
    "Terza: uguale alla seconda ma per date_added"
   ]
  },
  {
   "cell_type": "code",
   "execution_count": 22,
   "metadata": {},
   "outputs": [
    {
     "ename": "TypeError",
     "evalue": "'value' must be an instance of str or bytes, not a float",
     "output_type": "error",
     "traceback": [
      "\u001b[0;31m---------------------------------------------------------------------------\u001b[0m",
      "\u001b[0;31mTypeError\u001b[0m                                 Traceback (most recent call last)",
      "\u001b[0;32m/var/folders/4w/q50461456rd91tb9vb41m8980000gp/T/ipykernel_8193/1014735141.py\u001b[0m in \u001b[0;36m<module>\u001b[0;34m\u001b[0m\n\u001b[1;32m      5\u001b[0m \u001b[0mplt\u001b[0m\u001b[0;34m.\u001b[0m\u001b[0mxlabel\u001b[0m\u001b[0;34m(\u001b[0m\u001b[0;34m'imdb_score'\u001b[0m\u001b[0;34m)\u001b[0m\u001b[0;34m\u001b[0m\u001b[0;34m\u001b[0m\u001b[0m\n\u001b[1;32m      6\u001b[0m \u001b[0mplt\u001b[0m\u001b[0;34m.\u001b[0m\u001b[0mylabel\u001b[0m\u001b[0;34m(\u001b[0m\u001b[0;34m'age_certification'\u001b[0m\u001b[0;34m)\u001b[0m\u001b[0;34m\u001b[0m\u001b[0;34m\u001b[0m\u001b[0m\n\u001b[0;32m----> 7\u001b[0;31m \u001b[0mplt\u001b[0m\u001b[0;34m.\u001b[0m\u001b[0mplot\u001b[0m\u001b[0;34m(\u001b[0m\u001b[0mamazon_titles_combinata\u001b[0m\u001b[0;34m[\u001b[0m\u001b[0;34m'imdb_score'\u001b[0m\u001b[0;34m]\u001b[0m\u001b[0;34m,\u001b[0m \u001b[0mamazon_titles_combinata\u001b[0m\u001b[0;34m[\u001b[0m\u001b[0;34m'age_certification'\u001b[0m\u001b[0;34m]\u001b[0m\u001b[0;34m,\u001b[0m \u001b[0;34m'o'\u001b[0m\u001b[0;34m,\u001b[0m \u001b[0mcolor\u001b[0m\u001b[0;34m=\u001b[0m\u001b[0;34m'red'\u001b[0m\u001b[0;34m)\u001b[0m\u001b[0;34m\u001b[0m\u001b[0;34m\u001b[0m\u001b[0m\n\u001b[0m",
      "\u001b[0;32m~/opt/anaconda3/lib/python3.9/site-packages/matplotlib/pyplot.py\u001b[0m in \u001b[0;36mplot\u001b[0;34m(scalex, scaley, data, *args, **kwargs)\u001b[0m\n\u001b[1;32m   2767\u001b[0m \u001b[0;34m@\u001b[0m\u001b[0m_copy_docstring_and_deprecators\u001b[0m\u001b[0;34m(\u001b[0m\u001b[0mAxes\u001b[0m\u001b[0;34m.\u001b[0m\u001b[0mplot\u001b[0m\u001b[0;34m)\u001b[0m\u001b[0;34m\u001b[0m\u001b[0;34m\u001b[0m\u001b[0m\n\u001b[1;32m   2768\u001b[0m \u001b[0;32mdef\u001b[0m \u001b[0mplot\u001b[0m\u001b[0;34m(\u001b[0m\u001b[0;34m*\u001b[0m\u001b[0margs\u001b[0m\u001b[0;34m,\u001b[0m \u001b[0mscalex\u001b[0m\u001b[0;34m=\u001b[0m\u001b[0;32mTrue\u001b[0m\u001b[0;34m,\u001b[0m \u001b[0mscaley\u001b[0m\u001b[0;34m=\u001b[0m\u001b[0;32mTrue\u001b[0m\u001b[0;34m,\u001b[0m \u001b[0mdata\u001b[0m\u001b[0;34m=\u001b[0m\u001b[0;32mNone\u001b[0m\u001b[0;34m,\u001b[0m \u001b[0;34m**\u001b[0m\u001b[0mkwargs\u001b[0m\u001b[0;34m)\u001b[0m\u001b[0;34m:\u001b[0m\u001b[0;34m\u001b[0m\u001b[0;34m\u001b[0m\u001b[0m\n\u001b[0;32m-> 2769\u001b[0;31m     return gca().plot(\n\u001b[0m\u001b[1;32m   2770\u001b[0m         \u001b[0;34m*\u001b[0m\u001b[0margs\u001b[0m\u001b[0;34m,\u001b[0m \u001b[0mscalex\u001b[0m\u001b[0;34m=\u001b[0m\u001b[0mscalex\u001b[0m\u001b[0;34m,\u001b[0m \u001b[0mscaley\u001b[0m\u001b[0;34m=\u001b[0m\u001b[0mscaley\u001b[0m\u001b[0;34m,\u001b[0m\u001b[0;34m\u001b[0m\u001b[0;34m\u001b[0m\u001b[0m\n\u001b[1;32m   2771\u001b[0m         **({\"data\": data} if data is not None else {}), **kwargs)\n",
      "\u001b[0;32m~/opt/anaconda3/lib/python3.9/site-packages/matplotlib/axes/_axes.py\u001b[0m in \u001b[0;36mplot\u001b[0;34m(self, scalex, scaley, data, *args, **kwargs)\u001b[0m\n\u001b[1;32m   1630\u001b[0m         \"\"\"\n\u001b[1;32m   1631\u001b[0m         \u001b[0mkwargs\u001b[0m \u001b[0;34m=\u001b[0m \u001b[0mcbook\u001b[0m\u001b[0;34m.\u001b[0m\u001b[0mnormalize_kwargs\u001b[0m\u001b[0;34m(\u001b[0m\u001b[0mkwargs\u001b[0m\u001b[0;34m,\u001b[0m \u001b[0mmlines\u001b[0m\u001b[0;34m.\u001b[0m\u001b[0mLine2D\u001b[0m\u001b[0;34m)\u001b[0m\u001b[0;34m\u001b[0m\u001b[0;34m\u001b[0m\u001b[0m\n\u001b[0;32m-> 1632\u001b[0;31m         \u001b[0mlines\u001b[0m \u001b[0;34m=\u001b[0m \u001b[0;34m[\u001b[0m\u001b[0;34m*\u001b[0m\u001b[0mself\u001b[0m\u001b[0;34m.\u001b[0m\u001b[0m_get_lines\u001b[0m\u001b[0;34m(\u001b[0m\u001b[0;34m*\u001b[0m\u001b[0margs\u001b[0m\u001b[0;34m,\u001b[0m \u001b[0mdata\u001b[0m\u001b[0;34m=\u001b[0m\u001b[0mdata\u001b[0m\u001b[0;34m,\u001b[0m \u001b[0;34m**\u001b[0m\u001b[0mkwargs\u001b[0m\u001b[0;34m)\u001b[0m\u001b[0;34m]\u001b[0m\u001b[0;34m\u001b[0m\u001b[0;34m\u001b[0m\u001b[0m\n\u001b[0m\u001b[1;32m   1633\u001b[0m         \u001b[0;32mfor\u001b[0m \u001b[0mline\u001b[0m \u001b[0;32min\u001b[0m \u001b[0mlines\u001b[0m\u001b[0;34m:\u001b[0m\u001b[0;34m\u001b[0m\u001b[0;34m\u001b[0m\u001b[0m\n\u001b[1;32m   1634\u001b[0m             \u001b[0mself\u001b[0m\u001b[0;34m.\u001b[0m\u001b[0madd_line\u001b[0m\u001b[0;34m(\u001b[0m\u001b[0mline\u001b[0m\u001b[0;34m)\u001b[0m\u001b[0;34m\u001b[0m\u001b[0;34m\u001b[0m\u001b[0m\n",
      "\u001b[0;32m~/opt/anaconda3/lib/python3.9/site-packages/matplotlib/axes/_base.py\u001b[0m in \u001b[0;36m__call__\u001b[0;34m(self, data, *args, **kwargs)\u001b[0m\n\u001b[1;32m    310\u001b[0m                 \u001b[0mthis\u001b[0m \u001b[0;34m+=\u001b[0m \u001b[0margs\u001b[0m\u001b[0;34m[\u001b[0m\u001b[0;36m0\u001b[0m\u001b[0;34m]\u001b[0m\u001b[0;34m,\u001b[0m\u001b[0;34m\u001b[0m\u001b[0;34m\u001b[0m\u001b[0m\n\u001b[1;32m    311\u001b[0m                 \u001b[0margs\u001b[0m \u001b[0;34m=\u001b[0m \u001b[0margs\u001b[0m\u001b[0;34m[\u001b[0m\u001b[0;36m1\u001b[0m\u001b[0;34m:\u001b[0m\u001b[0;34m]\u001b[0m\u001b[0;34m\u001b[0m\u001b[0;34m\u001b[0m\u001b[0m\n\u001b[0;32m--> 312\u001b[0;31m             \u001b[0;32myield\u001b[0m \u001b[0;32mfrom\u001b[0m \u001b[0mself\u001b[0m\u001b[0;34m.\u001b[0m\u001b[0m_plot_args\u001b[0m\u001b[0;34m(\u001b[0m\u001b[0mthis\u001b[0m\u001b[0;34m,\u001b[0m \u001b[0mkwargs\u001b[0m\u001b[0;34m)\u001b[0m\u001b[0;34m\u001b[0m\u001b[0;34m\u001b[0m\u001b[0m\n\u001b[0m\u001b[1;32m    313\u001b[0m \u001b[0;34m\u001b[0m\u001b[0m\n\u001b[1;32m    314\u001b[0m     \u001b[0;32mdef\u001b[0m \u001b[0mget_next_color\u001b[0m\u001b[0;34m(\u001b[0m\u001b[0mself\u001b[0m\u001b[0;34m)\u001b[0m\u001b[0;34m:\u001b[0m\u001b[0;34m\u001b[0m\u001b[0;34m\u001b[0m\u001b[0m\n",
      "\u001b[0;32m~/opt/anaconda3/lib/python3.9/site-packages/matplotlib/axes/_base.py\u001b[0m in \u001b[0;36m_plot_args\u001b[0;34m(self, tup, kwargs, return_kwargs)\u001b[0m\n\u001b[1;32m    493\u001b[0m             \u001b[0mself\u001b[0m\u001b[0;34m.\u001b[0m\u001b[0maxes\u001b[0m\u001b[0;34m.\u001b[0m\u001b[0mxaxis\u001b[0m\u001b[0;34m.\u001b[0m\u001b[0mupdate_units\u001b[0m\u001b[0;34m(\u001b[0m\u001b[0mx\u001b[0m\u001b[0;34m)\u001b[0m\u001b[0;34m\u001b[0m\u001b[0;34m\u001b[0m\u001b[0m\n\u001b[1;32m    494\u001b[0m         \u001b[0;32mif\u001b[0m \u001b[0mself\u001b[0m\u001b[0;34m.\u001b[0m\u001b[0maxes\u001b[0m\u001b[0;34m.\u001b[0m\u001b[0myaxis\u001b[0m \u001b[0;32mis\u001b[0m \u001b[0;32mnot\u001b[0m \u001b[0;32mNone\u001b[0m\u001b[0;34m:\u001b[0m\u001b[0;34m\u001b[0m\u001b[0;34m\u001b[0m\u001b[0m\n\u001b[0;32m--> 495\u001b[0;31m             \u001b[0mself\u001b[0m\u001b[0;34m.\u001b[0m\u001b[0maxes\u001b[0m\u001b[0;34m.\u001b[0m\u001b[0myaxis\u001b[0m\u001b[0;34m.\u001b[0m\u001b[0mupdate_units\u001b[0m\u001b[0;34m(\u001b[0m\u001b[0my\u001b[0m\u001b[0;34m)\u001b[0m\u001b[0;34m\u001b[0m\u001b[0;34m\u001b[0m\u001b[0m\n\u001b[0m\u001b[1;32m    496\u001b[0m \u001b[0;34m\u001b[0m\u001b[0m\n\u001b[1;32m    497\u001b[0m         \u001b[0;32mif\u001b[0m \u001b[0mx\u001b[0m\u001b[0;34m.\u001b[0m\u001b[0mshape\u001b[0m\u001b[0;34m[\u001b[0m\u001b[0;36m0\u001b[0m\u001b[0;34m]\u001b[0m \u001b[0;34m!=\u001b[0m \u001b[0my\u001b[0m\u001b[0;34m.\u001b[0m\u001b[0mshape\u001b[0m\u001b[0;34m[\u001b[0m\u001b[0;36m0\u001b[0m\u001b[0;34m]\u001b[0m\u001b[0;34m:\u001b[0m\u001b[0;34m\u001b[0m\u001b[0;34m\u001b[0m\u001b[0m\n",
      "\u001b[0;32m~/opt/anaconda3/lib/python3.9/site-packages/matplotlib/axis.py\u001b[0m in \u001b[0;36mupdate_units\u001b[0;34m(self, data)\u001b[0m\n\u001b[1;32m   1447\u001b[0m         \u001b[0mneednew\u001b[0m \u001b[0;34m=\u001b[0m \u001b[0mself\u001b[0m\u001b[0;34m.\u001b[0m\u001b[0mconverter\u001b[0m \u001b[0;34m!=\u001b[0m \u001b[0mconverter\u001b[0m\u001b[0;34m\u001b[0m\u001b[0;34m\u001b[0m\u001b[0m\n\u001b[1;32m   1448\u001b[0m         \u001b[0mself\u001b[0m\u001b[0;34m.\u001b[0m\u001b[0mconverter\u001b[0m \u001b[0;34m=\u001b[0m \u001b[0mconverter\u001b[0m\u001b[0;34m\u001b[0m\u001b[0;34m\u001b[0m\u001b[0m\n\u001b[0;32m-> 1449\u001b[0;31m         \u001b[0mdefault\u001b[0m \u001b[0;34m=\u001b[0m \u001b[0mself\u001b[0m\u001b[0;34m.\u001b[0m\u001b[0mconverter\u001b[0m\u001b[0;34m.\u001b[0m\u001b[0mdefault_units\u001b[0m\u001b[0;34m(\u001b[0m\u001b[0mdata\u001b[0m\u001b[0;34m,\u001b[0m \u001b[0mself\u001b[0m\u001b[0;34m)\u001b[0m\u001b[0;34m\u001b[0m\u001b[0;34m\u001b[0m\u001b[0m\n\u001b[0m\u001b[1;32m   1450\u001b[0m         \u001b[0;32mif\u001b[0m \u001b[0mdefault\u001b[0m \u001b[0;32mis\u001b[0m \u001b[0;32mnot\u001b[0m \u001b[0;32mNone\u001b[0m \u001b[0;32mand\u001b[0m \u001b[0mself\u001b[0m\u001b[0;34m.\u001b[0m\u001b[0munits\u001b[0m \u001b[0;32mis\u001b[0m \u001b[0;32mNone\u001b[0m\u001b[0;34m:\u001b[0m\u001b[0;34m\u001b[0m\u001b[0;34m\u001b[0m\u001b[0m\n\u001b[1;32m   1451\u001b[0m             \u001b[0mself\u001b[0m\u001b[0;34m.\u001b[0m\u001b[0mset_units\u001b[0m\u001b[0;34m(\u001b[0m\u001b[0mdefault\u001b[0m\u001b[0;34m)\u001b[0m\u001b[0;34m\u001b[0m\u001b[0;34m\u001b[0m\u001b[0m\n",
      "\u001b[0;32m~/opt/anaconda3/lib/python3.9/site-packages/matplotlib/category.py\u001b[0m in \u001b[0;36mdefault_units\u001b[0;34m(data, axis)\u001b[0m\n\u001b[1;32m    114\u001b[0m         \u001b[0;31m# the conversion call stack is default_units -> axis_info -> convert\u001b[0m\u001b[0;34m\u001b[0m\u001b[0;34m\u001b[0m\u001b[0m\n\u001b[1;32m    115\u001b[0m         \u001b[0;32mif\u001b[0m \u001b[0maxis\u001b[0m\u001b[0;34m.\u001b[0m\u001b[0munits\u001b[0m \u001b[0;32mis\u001b[0m \u001b[0;32mNone\u001b[0m\u001b[0;34m:\u001b[0m\u001b[0;34m\u001b[0m\u001b[0;34m\u001b[0m\u001b[0m\n\u001b[0;32m--> 116\u001b[0;31m             \u001b[0maxis\u001b[0m\u001b[0;34m.\u001b[0m\u001b[0mset_units\u001b[0m\u001b[0;34m(\u001b[0m\u001b[0mUnitData\u001b[0m\u001b[0;34m(\u001b[0m\u001b[0mdata\u001b[0m\u001b[0;34m)\u001b[0m\u001b[0;34m)\u001b[0m\u001b[0;34m\u001b[0m\u001b[0;34m\u001b[0m\u001b[0m\n\u001b[0m\u001b[1;32m    117\u001b[0m         \u001b[0;32melse\u001b[0m\u001b[0;34m:\u001b[0m\u001b[0;34m\u001b[0m\u001b[0;34m\u001b[0m\u001b[0m\n\u001b[1;32m    118\u001b[0m             \u001b[0maxis\u001b[0m\u001b[0;34m.\u001b[0m\u001b[0munits\u001b[0m\u001b[0;34m.\u001b[0m\u001b[0mupdate\u001b[0m\u001b[0;34m(\u001b[0m\u001b[0mdata\u001b[0m\u001b[0;34m)\u001b[0m\u001b[0;34m\u001b[0m\u001b[0;34m\u001b[0m\u001b[0m\n",
      "\u001b[0;32m~/opt/anaconda3/lib/python3.9/site-packages/matplotlib/category.py\u001b[0m in \u001b[0;36m__init__\u001b[0;34m(self, data)\u001b[0m\n\u001b[1;32m    190\u001b[0m         \u001b[0mself\u001b[0m\u001b[0;34m.\u001b[0m\u001b[0m_counter\u001b[0m \u001b[0;34m=\u001b[0m \u001b[0mitertools\u001b[0m\u001b[0;34m.\u001b[0m\u001b[0mcount\u001b[0m\u001b[0;34m(\u001b[0m\u001b[0;34m)\u001b[0m\u001b[0;34m\u001b[0m\u001b[0;34m\u001b[0m\u001b[0m\n\u001b[1;32m    191\u001b[0m         \u001b[0;32mif\u001b[0m \u001b[0mdata\u001b[0m \u001b[0;32mis\u001b[0m \u001b[0;32mnot\u001b[0m \u001b[0;32mNone\u001b[0m\u001b[0;34m:\u001b[0m\u001b[0;34m\u001b[0m\u001b[0;34m\u001b[0m\u001b[0m\n\u001b[0;32m--> 192\u001b[0;31m             \u001b[0mself\u001b[0m\u001b[0;34m.\u001b[0m\u001b[0mupdate\u001b[0m\u001b[0;34m(\u001b[0m\u001b[0mdata\u001b[0m\u001b[0;34m)\u001b[0m\u001b[0;34m\u001b[0m\u001b[0;34m\u001b[0m\u001b[0m\n\u001b[0m\u001b[1;32m    193\u001b[0m \u001b[0;34m\u001b[0m\u001b[0m\n\u001b[1;32m    194\u001b[0m     \u001b[0;34m@\u001b[0m\u001b[0mstaticmethod\u001b[0m\u001b[0;34m\u001b[0m\u001b[0;34m\u001b[0m\u001b[0m\n",
      "\u001b[0;32m~/opt/anaconda3/lib/python3.9/site-packages/matplotlib/category.py\u001b[0m in \u001b[0;36mupdate\u001b[0;34m(self, data)\u001b[0m\n\u001b[1;32m    225\u001b[0m         \u001b[0;32mfor\u001b[0m \u001b[0mval\u001b[0m \u001b[0;32min\u001b[0m \u001b[0mOrderedDict\u001b[0m\u001b[0;34m.\u001b[0m\u001b[0mfromkeys\u001b[0m\u001b[0;34m(\u001b[0m\u001b[0mdata\u001b[0m\u001b[0;34m)\u001b[0m\u001b[0;34m:\u001b[0m\u001b[0;34m\u001b[0m\u001b[0;34m\u001b[0m\u001b[0m\n\u001b[1;32m    226\u001b[0m             \u001b[0;31m# OrderedDict just iterates over unique values in data.\u001b[0m\u001b[0;34m\u001b[0m\u001b[0;34m\u001b[0m\u001b[0m\n\u001b[0;32m--> 227\u001b[0;31m             \u001b[0m_api\u001b[0m\u001b[0;34m.\u001b[0m\u001b[0mcheck_isinstance\u001b[0m\u001b[0;34m(\u001b[0m\u001b[0;34m(\u001b[0m\u001b[0mstr\u001b[0m\u001b[0;34m,\u001b[0m \u001b[0mbytes\u001b[0m\u001b[0;34m)\u001b[0m\u001b[0;34m,\u001b[0m \u001b[0mvalue\u001b[0m\u001b[0;34m=\u001b[0m\u001b[0mval\u001b[0m\u001b[0;34m)\u001b[0m\u001b[0;34m\u001b[0m\u001b[0;34m\u001b[0m\u001b[0m\n\u001b[0m\u001b[1;32m    228\u001b[0m             \u001b[0;32mif\u001b[0m \u001b[0mconvertible\u001b[0m\u001b[0;34m:\u001b[0m\u001b[0;34m\u001b[0m\u001b[0;34m\u001b[0m\u001b[0m\n\u001b[1;32m    229\u001b[0m                 \u001b[0;31m# this will only be called so long as convertible is True.\u001b[0m\u001b[0;34m\u001b[0m\u001b[0;34m\u001b[0m\u001b[0m\n",
      "\u001b[0;32m~/opt/anaconda3/lib/python3.9/site-packages/matplotlib/_api/__init__.py\u001b[0m in \u001b[0;36mcheck_isinstance\u001b[0;34m(_types, **kwargs)\u001b[0m\n\u001b[1;32m     91\u001b[0m                 \u001b[0mnames\u001b[0m\u001b[0;34m.\u001b[0m\u001b[0mremove\u001b[0m\u001b[0;34m(\u001b[0m\u001b[0;34m\"None\"\u001b[0m\u001b[0;34m)\u001b[0m\u001b[0;34m\u001b[0m\u001b[0;34m\u001b[0m\u001b[0m\n\u001b[1;32m     92\u001b[0m                 \u001b[0mnames\u001b[0m\u001b[0;34m.\u001b[0m\u001b[0mappend\u001b[0m\u001b[0;34m(\u001b[0m\u001b[0;34m\"None\"\u001b[0m\u001b[0;34m)\u001b[0m\u001b[0;34m\u001b[0m\u001b[0;34m\u001b[0m\u001b[0m\n\u001b[0;32m---> 93\u001b[0;31m             raise TypeError(\n\u001b[0m\u001b[1;32m     94\u001b[0m                 \"{!r} must be an instance of {}, not a {}\".format(\n\u001b[1;32m     95\u001b[0m                     \u001b[0mk\u001b[0m\u001b[0;34m,\u001b[0m\u001b[0;34m\u001b[0m\u001b[0;34m\u001b[0m\u001b[0m\n",
      "\u001b[0;31mTypeError\u001b[0m: 'value' must be an instance of str or bytes, not a float"
     ]
    },
    {
     "data": {
      "image/png": "[encoded data removed]",
      "text/plain": [
       "<Figure size 1500x1000 with 1 Axes>"
      ]
     },
     "metadata": {},
     "output_type": "display_data"
    }
   ],
   "source": [
    "# Voglio creare un plot che indichi la distribuzione dell'imdb_score per ogni valore di age_certification\n",
    "\n",
    "plt.figure(figsize=(15, 10))\n",
    "plt.title('Distribuzione imdb_score per ogni valore di age_certification')\n",
    "plt.xlabel('imdb_score')\n",
    "plt.ylabel('age_certification')\n",
    "plt.plot(amazon_titles_combinata['imdb_score'], amazon_titles_combinata['age_certification'], 'o', color='red')\n"
   ]
  }
 ],
 "metadata": {
  "kernelspec": {
   "display_name": "Python 3.10.11 64-bit (microsoft store)",
   "language": "python",
   "name": "python3"
  },
  "language_info": {
   "codemirror_mode": {
    "name": "ipython",
    "version": 3
   },
   "file_extension": ".py",
   "mimetype": "text/x-python",
   "name": "python",
   "nbconvert_exporter": "python",
   "pygments_lexer": "ipython3",
   "version": "3.10.11"
  },
  "orig_nbformat": 4,
  "vscode": {
   "interpreter": {
    "hash": "b21fc17ddbb633c0954d9e42b62876e3352dfd032f7f923140c63c00b0bc0a5b"
   }
  }
 },
 "nbformat": 4,
 "nbformat_minor": 2
}
